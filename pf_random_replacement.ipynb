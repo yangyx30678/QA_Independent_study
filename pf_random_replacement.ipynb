{
 "cells": [
  {
   "cell_type": "code",
   "execution_count": 1,
   "metadata": {},
   "outputs": [
    {
     "name": "stderr",
     "output_type": "stream",
     "text": [
      "d:\\install\\Anaconda\\envs\\py3713\\lib\\site-packages\\tqdm\\auto.py:22: TqdmWarning: IProgress not found. Please update jupyter and ipywidgets. See https://ipywidgets.readthedocs.io/en/stable/user_install.html\n",
      "  from .autonotebook import tqdm as notebook_tqdm\n"
     ]
    },
    {
     "name": "stdout",
     "output_type": "stream",
     "text": [
      " -- Data complete -- \n"
     ]
    }
   ],
   "source": [
    "from torch.utils.data import DataLoader\n",
    "import transformers as T\n",
    "negative_rate = 0.15\n",
    "change_rate = 0.9\n",
    "\n",
    "tokenizer = T.BertTokenizer.from_pretrained('hfl/chinese-pert-base')\n",
    "print(' -- Data complete -- ')\n",
    "\n",
    "from tqdm import tqdm\n",
    "\n",
    "def _is_chinese_char(cp):\n",
    "    cp = ord(cp)\n",
    "    if ((cp >= 0x4E00 and cp <= 0x9FFF) or  #\n",
    "        (cp >= 0x3400 and cp <= 0x4DBF) or  #\n",
    "        (cp >= 0x20000 and cp <= 0x2A6DF) or  #\n",
    "        (cp >= 0x2A700 and cp <= 0x2B73F) or  #\n",
    "        (cp >= 0x2B740 and cp <= 0x2B81F) or  #\n",
    "        (cp >= 0x2B820 and cp <= 0x2CEAF) or\n",
    "        (cp >= 0xF900 and cp <= 0xFAFF) or  #\n",
    "        (cp >= 0x2F800 and cp <= 0x2FA1F)):  #\n",
    "      return True\n",
    "\n",
    "def is_chinese(s):\n",
    "    for each in s:\n",
    "        if not _is_chinese_char(each):\n",
    "            return False\n",
    "    return True\n",
    "\n",
    "chinese_char = []\n",
    "for i in range(len(tokenizer)):\n",
    "    if is_chinese(tokenizer.decode([i])):\n",
    "        chinese_char.append(i)"
   ]
  },
  {
   "cell_type": "code",
   "execution_count": 2,
   "metadata": {},
   "outputs": [
    {
     "name": "stderr",
     "output_type": "stream",
     "text": [
      "Some weights of the model checkpoint at hfl/chinese-pert-base were not used when initializing BertModel: ['cls.predictions.transform.LayerNorm.weight', 'cls.predictions.bias', 'cls.predictions.decoder.bias', 'cls.predictions.transform.dense.bias', 'cls.predictions.transform.dense.weight', 'cls.seq_relationship.bias', 'cls.predictions.decoder.weight', 'cls.predictions.transform.LayerNorm.bias', 'cls.seq_relationship.weight']\n",
      "- This IS expected if you are initializing BertModel from the checkpoint of a model trained on another task or with another architecture (e.g. initializing a BertForSequenceClassification model from a BertForPreTraining model).\n",
      "- This IS NOT expected if you are initializing BertModel from the checkpoint of a model that you expect to be exactly identical (initializing a BertForSequenceClassification model from a BertForSequenceClassification model).\n"
     ]
    }
   ],
   "source": [
    "import torch\n",
    "import random\n",
    "import jieba\n",
    "import copy\n",
    "from model_rr import Model4QA\n",
    "def get_batch(sample):\n",
    "    lengths = [len([101]+each[0]+[102]) for each in sample]\n",
    "    input_seq = [[101]+each[0]+[102]+each[1]+[102] for each in sample]\n",
    "    cn_in_seq = []\n",
    "    for i in range(len(input_seq)):\n",
    "        cn_in_seq.append([])\n",
    "        for j in range(len(input_seq[i])):\n",
    "            if input_seq[i][j] in chinese_char:\n",
    "                cn_in_seq[i].append(j)\n",
    "\n",
    "    sampled_char = [random.sample(each, int(len(each)*negative_rate)) for each in cn_in_seq]\n",
    "    replace_char = [random.sample(each, int(len(each)*change_rate)) for each in sampled_char]\n",
    "    # char_ids = [[each for each in zip([input_seq[i][t] for t in replace_char[i]], range(len(replace_char[i])))] for i in range(len(input_seq))]\n",
    "    # shuffle_ids = copy.copy(char_ids)\n",
    "    shuffle_char = [random.sample(each, len(each)) for each in replace_char]\n",
    "    shuffle_ids = [[input_seq[i][t] for t in replace_char[i]] for i in range(len(input_seq))]\n",
    "    \n",
    "    for i in range(len(input_seq)):\n",
    "        for j in range(len(shuffle_ids[i])):\n",
    "            input_seq[i][replace_char[i][j]] = shuffle_ids[i][j]\n",
    "    \n",
    "    maxlen = max([len(each) for each in input_seq])\n",
    "    input_ids = torch.zeros((len(sample), maxlen), dtype=torch.int64)\n",
    "    mask = torch.zeros((len(sample), maxlen), dtype=torch.int64)\n",
    "    token_type_ids = torch.zeros((len(sample), maxlen), dtype=torch.int64)\n",
    "    labels = torch.zeros((len(sample), maxlen), dtype=torch.int64)\n",
    "    negative_samples = torch.zeros((len(sample), maxlen), dtype=torch.int64)\n",
    "    for i in range(len(input_seq)):\n",
    "        for j in range(len(input_seq[i])):\n",
    "            input_ids[i, j] = input_seq[i][j]\n",
    "            mask[i, j] = 1\n",
    "            if j < lengths[i]:\n",
    "                token_type_ids[i, j] = 1\n",
    "        for j in range(len(sampled_char[i])):\n",
    "            if sampled_char[i][j] in replace_char[i]: labels[i, sampled_char[i][j]] = shuffle_char[i].index(sampled_char[i][j])\n",
    "            else: labels[i, sampled_char[i][j]] = sampled_char[i][j]\n",
    "            negative_samples[i, sampled_char[i][j]] = 1\n",
    "    return input_ids, mask, token_type_ids, labels, negative_samples\n",
    "\n",
    "\n",
    "device = torch.device('cuda:0' if torch.cuda.is_available() else 'cpu')\n",
    "myModel = Model4QA()\n",
    "# myModel = torch.nn.DataParallel(myModel, device_ids=[0])\n",
    "myModel = myModel.to(device)\n",
    "\n",
    "lr_max = 1e-5\n",
    "lr_min = 1e-7\n",
    "\n",
    "def loss_func(scores, labels, mask, negative_samples):\n",
    "    total_loss = 0\n",
    "    labels = [each.to(device) for each in labels]\n",
    "    for i in range(scores.size(0)):\n",
    "        for j in range(scores.size(1)):\n",
    "            if mask[i, j] == 1 and negative_samples[i, j] == 1:\n",
    "                total_loss += torch.nn.CrossEntropyLoss()(scores[i, j], labels[i][j])\n",
    "    return total_loss"
   ]
  },
  {
   "cell_type": "code",
   "execution_count": 3,
   "metadata": {},
   "outputs": [
    {
     "name": "stdout",
     "output_type": "stream",
     "text": [
      " -- Start training -- \n"
     ]
    },
    {
     "name": "stderr",
     "output_type": "stream",
     "text": [
      "100%|██████████| 1836/1836 [46:04<00:00,  1.51s/it]\n"
     ]
    },
    {
     "name": "stdout",
     "output_type": "stream",
     "text": [
      "\n",
      "epoch 0, Batch 1836, Loss 1574.1019, acc 0.0214, rp acc 0.0238, rm acc  0.0025\n"
     ]
    },
    {
     "name": "stderr",
     "output_type": "stream",
     "text": [
      "100%|██████████| 1836/1836 [44:51<00:00,  1.47s/it]\n"
     ]
    },
    {
     "name": "stdout",
     "output_type": "stream",
     "text": [
      "\n",
      "epoch 1, Batch 1836, Loss 1456.6943, acc 0.0237, rp acc 0.0263, rm acc  0.0033\n"
     ]
    },
    {
     "name": "stderr",
     "output_type": "stream",
     "text": [
      "100%|██████████| 1836/1836 [40:31<00:00,  1.32s/it]\n"
     ]
    },
    {
     "name": "stdout",
     "output_type": "stream",
     "text": [
      "\n",
      "epoch 2, Batch 1836, Loss 1454.9361, acc 0.0236, rp acc 0.0262, rm acc  0.0031\n"
     ]
    },
    {
     "name": "stderr",
     "output_type": "stream",
     "text": [
      " 35%|███▌      | 650/1836 [13:44<25:03,  1.27s/it]\n"
     ]
    },
    {
     "ename": "KeyboardInterrupt",
     "evalue": "",
     "output_type": "error",
     "traceback": [
      "\u001b[1;31m---------------------------------------------------------------------------\u001b[0m",
      "\u001b[1;31mKeyboardInterrupt\u001b[0m                         Traceback (most recent call last)",
      "\u001b[1;32m~\\AppData\\Local\\Temp\\ipykernel_6468\\442769645.py\u001b[0m in \u001b[0;36m<module>\u001b[1;34m\u001b[0m\n\u001b[0;32m     41\u001b[0m                     \u001b[0mall\u001b[0m \u001b[1;33m+=\u001b[0m \u001b[1;36m1\u001b[0m\u001b[1;33m\u001b[0m\u001b[1;33m\u001b[0m\u001b[0m\n\u001b[0;32m     42\u001b[0m                     \u001b[1;32mif\u001b[0m \u001b[0mlabels\u001b[0m\u001b[1;33m[\u001b[0m\u001b[0mi\u001b[0m\u001b[1;33m]\u001b[0m\u001b[1;33m[\u001b[0m\u001b[0mj\u001b[0m\u001b[1;33m]\u001b[0m \u001b[1;33m!=\u001b[0m \u001b[0mj\u001b[0m\u001b[1;33m:\u001b[0m\u001b[1;33m\u001b[0m\u001b[1;33m\u001b[0m\u001b[0m\n\u001b[1;32m---> 43\u001b[1;33m                         \u001b[1;32mif\u001b[0m \u001b[0mpredict_result\u001b[0m\u001b[1;33m[\u001b[0m\u001b[0mi\u001b[0m\u001b[1;33m,\u001b[0m \u001b[0mj\u001b[0m\u001b[1;33m]\u001b[0m \u001b[1;33m==\u001b[0m \u001b[0mlabels\u001b[0m\u001b[1;33m[\u001b[0m\u001b[0mi\u001b[0m\u001b[1;33m]\u001b[0m\u001b[1;33m[\u001b[0m\u001b[0mj\u001b[0m\u001b[1;33m]\u001b[0m\u001b[1;33m:\u001b[0m\u001b[1;33m\u001b[0m\u001b[1;33m\u001b[0m\u001b[0m\n\u001b[0m\u001b[0;32m     44\u001b[0m                             \u001b[0mrp_match\u001b[0m \u001b[1;33m+=\u001b[0m \u001b[1;36m1\u001b[0m\u001b[1;33m\u001b[0m\u001b[1;33m\u001b[0m\u001b[0m\n\u001b[0;32m     45\u001b[0m                         \u001b[0mrp_all\u001b[0m \u001b[1;33m+=\u001b[0m \u001b[1;36m1\u001b[0m\u001b[1;33m\u001b[0m\u001b[1;33m\u001b[0m\u001b[0m\n",
      "\u001b[1;31mKeyboardInterrupt\u001b[0m: "
     ]
    }
   ],
   "source": [
    "import copy\n",
    "import math\n",
    "from data_cmrc import CMRC\n",
    "print(' -- Start training -- ')\n",
    "warmup = 1000\n",
    "optim = torch.optim.Adam(myModel.parameters(), lr=1)\n",
    "scheduler = torch.optim.lr_scheduler.LambdaLR(optim, lambda cur_iter: ((cur_iter/warmup)*(lr_max-lr_min)+lr_min) if cur_iter <= warmup else \\\n",
    "                                (lr_max*((1-lr_min/lr_max)/2+((1-lr_min/lr_max)/2)*math.cos((cur_iter-warmup)/(4000-warmup)*math.pi))))\n",
    "pd = CMRC(split='train')\n",
    "for epoch in range(5):\n",
    "    \n",
    "    dl = DataLoader(pd, batch_size=8, collate_fn=get_batch, shuffle=True)\n",
    "    loop = tqdm(dl, leave=True)\n",
    "    running_loss = 0.\n",
    "    match = 0.\n",
    "    all = 0.\n",
    "\n",
    "    rp_match = 0.\n",
    "    rp_all = 0.\n",
    "\n",
    "    myModel.train()\n",
    "    for index, batch in enumerate(loop):\n",
    "        \n",
    "        input_ids, mask, token_type_ids, labels, negative_samples = batch\n",
    "        input_ids, mask, token_type_ids = input_ids.to(device), mask.to(device), token_type_ids.to(device)\n",
    "        optim.zero_grad()\n",
    "        scores = myModel(input_ids, mask=mask, token_type_ids=token_type_ids)\n",
    "        loss = loss_func(scores, labels, mask, negative_samples)\n",
    "        loss.backward()\n",
    "        optim.step()\n",
    "        scheduler.step()\n",
    "        running_loss+=loss.item()\n",
    "        \n",
    "\n",
    "        predict_result = torch.argmax(scores, dim=-1)\n",
    "        for i in range(predict_result.size(0)):\n",
    "            for j in range(predict_result.size(1)):\n",
    "                if mask[i, j] == 1 and negative_samples[i, j] == 1:\n",
    "                    if predict_result[i, j] == labels[i][j]:\n",
    "                        match += 1\n",
    "                    all += 1\n",
    "                    if labels[i][j] != j:\n",
    "                        if predict_result[i, j] == labels[i][j]:\n",
    "                            rp_match += 1\n",
    "                        rp_all += 1\n",
    "\n",
    "    torch.save(myModel, f'./saved_model/epoch{epoch}')\n",
    "    print('\\nepoch {}, Batch {}, Loss {:.4f}, acc {:.4f}, rp acc {:.4f}, rm acc  {:.4f}'.format(\n",
    "        epoch, index + 1, running_loss / len(dl), match / all, rp_match / rp_all, (match-rp_match) / (all-rp_all)))\n",
    "    running_loss = 0\n",
    "    match = 0.\n",
    "    all = 0.\n",
    "    rp_match = 0.\n",
    "    rp_all = 0."
   ]
  },
  {
   "cell_type": "code",
   "execution_count": null,
   "metadata": {},
   "outputs": [
    {
     "data": {
      "text/plain": [
       "[2, 3, 4, 1, 5]"
      ]
     },
     "execution_count": 4,
     "metadata": {},
     "output_type": "execute_result"
    }
   ],
   "source": [
    "random.sample([1,2,3,4,5], 5)"
   ]
  }
 ],
 "metadata": {
  "kernelspec": {
   "display_name": "Python 3",
   "language": "python",
   "name": "python3"
  },
  "language_info": {
   "codemirror_mode": {
    "name": "ipython",
    "version": 3
   },
   "file_extension": ".py",
   "mimetype": "text/x-python",
   "name": "python",
   "nbconvert_exporter": "python",
   "pygments_lexer": "ipython3",
   "version": "3.7.12 | packaged by conda-forge | (default, Oct 26 2021, 06:08:21) \n[GCC 9.4.0]"
  },
  "orig_nbformat": 4,
  "vscode": {
   "interpreter": {
    "hash": "a864910f859e9c0b4cc0b30fd7edb762b8c479b0bcf71b6f1b67476388e6fcd1"
   }
  }
 },
 "nbformat": 4,
 "nbformat_minor": 2
}
