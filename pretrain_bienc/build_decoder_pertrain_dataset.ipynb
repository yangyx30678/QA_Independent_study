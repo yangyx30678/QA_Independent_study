{
 "cells": [
  {
   "cell_type": "code",
   "execution_count": 2,
   "metadata": {},
   "outputs": [
    {
     "name": "stderr",
     "output_type": "stream",
     "text": [
      "Downloading: 100%|██████████| 428/428 [00:00<00:00, 440kB/s]\n",
      "d:\\install\\Anaconda\\envs\\py3713\\lib\\site-packages\\huggingface_hub\\file_download.py:123: UserWarning: `huggingface_hub` cache-system uses symlinks by default to efficiently store duplicated files but your machine does not support them in C:\\Users\\fzq19\\.cache\\huggingface\\hub. Caching files will still work but in a degraded version that might require more space on your disk. This warning can be disabled by setting the `HF_HUB_DISABLE_SYMLINKS_WARNING` environment variable. For more details, see https://huggingface.co/docs/huggingface_hub/how-to-cache#limitations.\n",
      "To support symlinks on Windows, you either need to activate Developer Mode or to run Python as an administrator. In order to see activate developer mode, see this article: https://docs.microsoft.com/en-us/windows/apps/get-started/enable-your-device-for-development\n",
      "  warnings.warn(message)\n",
      "Downloading: 100%|██████████| 4.31M/4.31M [00:01<00:00, 2.49MB/s]\n",
      "Downloading: 100%|██████████| 8.31M/8.31M [00:02<00:00, 3.89MB/s]\n",
      "Downloading: 100%|██████████| 17.0/17.0 [00:00<00:00, 17.2kB/s]\n",
      "Downloading: 100%|██████████| 65.0/65.0 [00:00<00:00, 33.3kB/s]\n",
      "Downloading: 100%|██████████| 731/731 [00:00<00:00, 749kB/s]\n",
      "Downloading: 100%|██████████| 2.33G/2.33G [02:08<00:00, 18.1MB/s] \n"
     ]
    }
   ],
   "source": [
    "from question_generation import pipeline\n",
    "qg = pipeline('question-generation', device='cuda')"
   ]
  },
  {
   "cell_type": "code",
   "execution_count": 6,
   "metadata": {},
   "outputs": [
    {
     "data": {
      "text/plain": [
       "['咱办今天下雨,我不去学校实驗室,但是今天还要开会',\n",
       " '咱办一天下雨 我不去校实验室,但是明天还要開会?',\n",
       " '咱辦今天下了雨,我不能去学校实验室了,但是今天還要开会?']"
      ]
     },
     "execution_count": 6,
     "metadata": {},
     "output_type": "execute_result"
    }
   ],
   "source": []
  }
 ],
 "metadata": {
  "kernelspec": {
   "display_name": "Python 3",
   "language": "python",
   "name": "python3"
  },
  "language_info": {
   "codemirror_mode": {
    "name": "ipython",
    "version": 3
   },
   "file_extension": ".py",
   "mimetype": "text/x-python",
   "name": "python",
   "nbconvert_exporter": "python",
   "pygments_lexer": "ipython3",
   "version": "3.7.12 | packaged by conda-forge | (default, Oct 26 2021, 06:08:21) \n[GCC 9.4.0]"
  },
  "orig_nbformat": 4,
  "vscode": {
   "interpreter": {
    "hash": "a864910f859e9c0b4cc0b30fd7edb762b8c479b0bcf71b6f1b67476388e6fcd1"
   }
  }
 },
 "nbformat": 4,
 "nbformat_minor": 2
}
