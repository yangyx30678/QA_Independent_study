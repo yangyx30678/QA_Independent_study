{
 "cells": [
  {
   "cell_type": "code",
   "execution_count": 1,
   "metadata": {},
   "outputs": [
    {
     "name": "stderr",
     "output_type": "stream",
     "text": [
      "d:\\install\\Anaconda\\envs\\py3713\\lib\\site-packages\\tqdm\\auto.py:22: TqdmWarning: IProgress not found. Please update jupyter and ipywidgets. See https://ipywidgets.readthedocs.io/en/stable/user_install.html\n",
      "  from .autonotebook import tqdm as notebook_tqdm\n"
     ]
    }
   ],
   "source": [
    "# from datasets import load\n",
    "from torch.utils.data import Dataset, DataLoader\n",
    "import json\n",
    "import torch\n",
    "file_dict = '../datasets/cmrc2018/'\n",
    "\n",
    "articles = []\n",
    "\n",
    "class CMRC(Dataset):\n",
    "    def __init__(self, split) -> None:\n",
    "        super().__init__()\n",
    "        self.data = []\n",
    "        if split == 'train':\n",
    "            f = 'cmrc2018_train.json'\n",
    "        elif split == 'dev':\n",
    "            f = 'cmrc2018_dev.json'\n",
    "        elif split == 'test':\n",
    "            f = 'cmrc2018_trial.json'\n",
    "\n",
    "        with open(file_dict + f, 'r') as file:\n",
    "            d = json.loads(file.readlines()[0])\n",
    "        for each in d:\n",
    "            articles.append(each['context_text'])\n",
    "            for qa in each['qas']:\n",
    "                self.data.append([qa['query_text'], qa['answers'][0], len(articles)-1])\n",
    "        print()\n",
    "\n",
    "    def __getitem__(self, index):\n",
    "        return self.data[index]\n",
    "\n",
    "    def __len__(self):\n",
    "        return len(self.data)\n",
    "\n",
    "if __name__ == '__main__':\n",
    "    cmrc = CMRC(split='train')\n",
    "#     cmrc = CMRC(split='dev')\n",
    "#     cmrc = CMRC(split='test')\n",
    "#     print()\n"
   ]
  },
  {
   "cell_type": "code",
   "execution_count": 2,
   "metadata": {},
   "outputs": [],
   "source": [
    "# from tokenization import FullTokenizer\n",
    "# tokenizer = FullTokenizer('./my_vocab.txt')\n",
    "import transformers as T\n",
    "import jieba\n",
    "import public_params as pp\n",
    "tokenizer = pp.tokenizer"
   ]
  },
  {
   "cell_type": "code",
   "execution_count": 3,
   "metadata": {},
   "outputs": [],
   "source": [
    "\n",
    "def get_batch(sample):\n",
    "\n",
    "    q = [tokenizer.convert_tokens_to_ids(list(each[0])) for each in sample]\n",
    "    c = [tokenizer.convert_tokens_to_ids(list(articles[each[2]])) for each in sample]\n",
    "    answers = [tokenizer.convert_tokens_to_ids(list(str(each[1]))) for each in sample]\n",
    "    labels = []\n",
    "    for i in range(len(sample)):\n",
    "        for j in range(len(c[i])):\n",
    "            if c[i][j:j+len(answers[i])] == answers[i]:\n",
    "                labels.append([j, j+len(answers[i])])\n",
    "                break\n",
    "    if len(labels) < len(c):\n",
    "        print('error!!')\n",
    "\n",
    "    result = []\n",
    "    maxlen4c = 330\n",
    "    overlap = 20\n",
    "    for i in range(len(sample)):\n",
    "        maxlen4c = 505 - len(q[i])\n",
    "        if len(c[i]) > maxlen4c:\n",
    "            for j in range(0, len(c[i])-overlap, maxlen4c-overlap):\n",
    "                if labels[i][0]<j and labels[i][1]<j:\n",
    "                    result.append([c[i][j: j+maxlen4c], q[i], [0, 0]])\n",
    "                elif labels[i][0]<j and labels[i][1]>=j:\n",
    "                    result.append([c[i][j: j+maxlen4c], q[i], [0, labels[i][1]-(j)]])\n",
    "                elif labels[i][0]>=j and labels[i][1]<j+maxlen4c:\n",
    "                    result.append([c[i][j: j+maxlen4c], q[i], [labels[i][0]-(j), labels[i][1]-(j)]])\n",
    "                elif labels[i][0]<j+maxlen4c and labels[i][1]>=j+maxlen4c:\n",
    "                    result.append([c[i][j: j+maxlen4c], q[i], [labels[i][0]-(j), maxlen4c-1]])\n",
    "                elif labels[i][0]>=j+maxlen4c and labels[i][1]>=j+maxlen4c:\n",
    "                    result.append([c[i][j: j+maxlen4c], q[i], [0, 0]])\n",
    "                if j+maxlen4c >= len(c[i]):\n",
    "                    break\n",
    "        else: \n",
    "            result.append([c[i], q[i], labels[i]])\n",
    "    return result"
   ]
  },
  {
   "cell_type": "code",
   "execution_count": 4,
   "metadata": {},
   "outputs": [
    {
     "name": "stderr",
     "output_type": "stream",
     "text": [
      "100%|██████████| 1268/1268 [00:04<00:00, 307.99it/s]\n",
      "d:\\install\\Anaconda\\envs\\py3713\\lib\\site-packages\\numpy\\lib\\npyio.py:528: VisibleDeprecationWarning: Creating an ndarray from ragged nested sequences (which is a list-or-tuple of lists-or-tuples-or ndarrays with different lengths or shapes) is deprecated. If you meant to do this, you must specify 'dtype=object' when creating the ndarray.\n",
      "  arr = np.asanyarray(arr)\n",
      "100%|██████████| 403/403 [00:01<00:00, 318.67it/s]\n",
      "100%|██████████| 126/126 [00:00<00:00, 295.18it/s]\n"
     ]
    }
   ],
   "source": [
    "from tqdm import tqdm\n",
    "import numpy\n",
    "def process(split):\n",
    "    processed_set = []\n",
    "    train_set = CMRC(split=split)\n",
    "    dl = DataLoader(train_set, batch_size=8, collate_fn=get_batch, shuffle=True)\n",
    "    for i, batch in enumerate(tqdm(dl, leave=True)):\n",
    "        processed_set.extend(batch)\n",
    "    numpy.save(f'./data4finetuning/cmrc_{split}', processed_set)\n",
    "process('train')\n",
    "process('dev')\n",
    "process('test')\n",
    "# print(maxq, maxc)\n"
   ]
  },
  {
   "cell_type": "code",
   "execution_count": 5,
   "metadata": {},
   "outputs": [
    {
     "data": {
      "text/plain": [
       "'[UNK]'"
      ]
     },
     "execution_count": 5,
     "metadata": {},
     "output_type": "execute_result"
    }
   ],
   "source": [
    "import transformers as T\n",
    "tokenizer = T.BertTokenizer.from_pretrained('hfl/chinese-pert-base')\n",
    "tokenizer.decode([100])"
   ]
  }
 ],
 "metadata": {
  "kernelspec": {
   "display_name": "Python 3",
   "language": "python",
   "name": "python3"
  },
  "language_info": {
   "codemirror_mode": {
    "name": "ipython",
    "version": 3
   },
   "file_extension": ".py",
   "mimetype": "text/x-python",
   "name": "python",
   "nbconvert_exporter": "python",
   "pygments_lexer": "ipython3",
   "version": "3.7.12 | packaged by conda-forge | (default, Oct 26 2021, 06:08:21) \n[GCC 9.4.0]"
  },
  "orig_nbformat": 4,
  "vscode": {
   "interpreter": {
    "hash": "a864910f859e9c0b4cc0b30fd7edb762b8c479b0bcf71b6f1b67476388e6fcd1"
   }
  }
 },
 "nbformat": 4,
 "nbformat_minor": 2
}
