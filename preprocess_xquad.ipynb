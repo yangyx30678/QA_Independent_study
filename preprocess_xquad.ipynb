{
 "cells": [
  {
   "cell_type": "code",
   "execution_count": 1,
   "metadata": {},
   "outputs": [],
   "source": [
    "import json\n",
    "data = []\n",
    "with open('../datasets/xquad/xquad.zh.json') as file:\n",
    "    data_in_file = json.load(file)\n",
    "for paragraphs in data_in_file['data']:\n",
    "    for paragraph in paragraphs['paragraphs']:\n",
    "        # articles.append(paragraph['context'])\n",
    "        for qa in paragraph['qas']:\n",
    "            data.append([paragraph['context'], qa['question'], [qa['answers'][0]['answer_start'], qa['answers'][0]['answer_start']+len(qa['answers'][0]['text'])]])"
   ]
  },
  {
   "cell_type": "code",
   "execution_count": 2,
   "metadata": {},
   "outputs": [
    {
     "name": "stderr",
     "output_type": "stream",
     "text": [
      "d:\\install\\Anaconda\\envs\\py3713\\lib\\site-packages\\tqdm\\auto.py:22: TqdmWarning: IProgress not found. Please update jupyter and ipywidgets. See https://ipywidgets.readthedocs.io/en/stable/user_install.html\n",
      "  from .autonotebook import tqdm as notebook_tqdm\n"
     ]
    }
   ],
   "source": [
    "import public_params as pp\n",
    "tokenizer = pp.tokenizer\n",
    "data = [[tokenizer.convert_tokens_to_ids(list(each[0])), tokenizer.convert_tokens_to_ids(list(each[1])), each[2]] for each in data]"
   ]
  },
  {
   "cell_type": "code",
   "execution_count": 3,
   "metadata": {},
   "outputs": [],
   "source": [
    "def cut(data):\n",
    "\n",
    "    q = [each[1] for each in data]\n",
    "    c = [each[0] for each in data]\n",
    "    labels = [each[2] for each in data]\n",
    "\n",
    "    result = []\n",
    "    maxlen4c = 330\n",
    "    overlap = 20\n",
    "    for i in range(len(data)):\n",
    "        maxlen4c = 505 - len(q[i])\n",
    "        if len(c[i]) > maxlen4c:\n",
    "            for j in range(0, len(c[i])-overlap, maxlen4c-overlap):\n",
    "                if labels[i][0]<j and labels[i][1]<j:\n",
    "                    result.append([c[i][j: j+maxlen4c], q[i], [0, 0]])\n",
    "                elif labels[i][0]<j and labels[i][1]>=j:\n",
    "                    result.append([c[i][j: j+maxlen4c], q[i], [0, labels[i][1]-(j)]])\n",
    "                elif labels[i][0]>=j and labels[i][1]<j+maxlen4c:\n",
    "                    result.append([c[i][j: j+maxlen4c], q[i], [labels[i][0]-(j), labels[i][1]-(j)]])\n",
    "                elif labels[i][0]<j+maxlen4c and labels[i][1]>=j+maxlen4c:\n",
    "                    result.append([c[i][j: j+maxlen4c], q[i], [labels[i][0]-(j), maxlen4c-1]])\n",
    "                elif labels[i][0]>=j+maxlen4c and labels[i][1]>=j+maxlen4c:\n",
    "                    result.append([c[i][j: j+maxlen4c], q[i], [0, 0]])\n",
    "                if j+maxlen4c >= len(c[i]):\n",
    "                    break\n",
    "        else: \n",
    "            result.append([c[i], q[i], labels[i]])\n",
    "    return result\n",
    "\n",
    "data = cut(data)"
   ]
  },
  {
   "cell_type": "code",
   "execution_count": 4,
   "metadata": {},
   "outputs": [
    {
     "name": "stderr",
     "output_type": "stream",
     "text": [
      "d:\\install\\Anaconda\\envs\\py3713\\lib\\site-packages\\numpy\\lib\\npyio.py:528: VisibleDeprecationWarning: Creating an ndarray from ragged nested sequences (which is a list-or-tuple of lists-or-tuples-or ndarrays with different lengths or shapes) is deprecated. If you meant to do this, you must specify 'dtype=object' when creating the ndarray.\n",
      "  arr = np.asanyarray(arr)\n"
     ]
    }
   ],
   "source": [
    "import numpy\n",
    "numpy.save(f'./data4finetuning/xquad', data)"
   ]
  },
  {
   "cell_type": "code",
   "execution_count": 5,
   "metadata": {},
   "outputs": [
    {
     "data": {
      "text/plain": [
       "505"
      ]
     },
     "execution_count": 5,
     "metadata": {},
     "output_type": "execute_result"
    }
   ],
   "source": [
    "ml = max([len(each[0])+len(each[1]) for each in data])\n",
    "ml"
   ]
  }
 ],
 "metadata": {
  "kernelspec": {
   "display_name": "Python 3",
   "language": "python",
   "name": "python3"
  },
  "language_info": {
   "codemirror_mode": {
    "name": "ipython",
    "version": 3
   },
   "file_extension": ".py",
   "mimetype": "text/x-python",
   "name": "python",
   "nbconvert_exporter": "python",
   "pygments_lexer": "ipython3",
   "version": "3.7.13 (default, Oct 18 2022, 18:57:03) \n[GCC 11.2.0]"
  },
  "orig_nbformat": 4,
  "vscode": {
   "interpreter": {
    "hash": "a864910f859e9c0b4cc0b30fd7edb762b8c479b0bcf71b6f1b67476388e6fcd1"
   }
  }
 },
 "nbformat": 4,
 "nbformat_minor": 2
}
