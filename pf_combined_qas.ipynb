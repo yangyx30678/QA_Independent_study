{
 "cells": [
  {
   "cell_type": "code",
   "execution_count": 1,
   "metadata": {},
   "outputs": [
    {
     "name": "stderr",
     "output_type": "stream",
     "text": [
      "d:\\install\\Anaconda\\envs\\py3713\\lib\\site-packages\\tqdm\\auto.py:22: TqdmWarning: IProgress not found. Please update jupyter and ipywidgets. See https://ipywidgets.readthedocs.io/en/stable/user_install.html\n",
      "  from .autonotebook import tqdm as notebook_tqdm\n"
     ]
    }
   ],
   "source": [
    "from torch.utils.data import DataLoader\n",
    "import transformers as T\n",
    "import public_params as pp\n",
    "import torch\n",
    "import math\n",
    "from model_cq import Model4QA\n",
    "tokenizer = pp.tokenizer\n",
    "from data_ft import data4finetuning\n",
    "ft_dataset = data4finetuning()"
   ]
  },
  {
   "cell_type": "code",
   "execution_count": 2,
   "metadata": {},
   "outputs": [],
   "source": [
    "from scipy import integrate\n",
    "import copy\n",
    "import random\n",
    "standard = 0.3\n",
    "average = 0.9\n",
    "normal = lambda x: (1/(standard*(2*math.pi)**0.5))*math.e**(-(x-average)**2/(2*standard**2))\n",
    "def get_batch(sample):\n",
    "    lengths = [len(each[0])+2 for each in sample]\n",
    "    context = [each[0] for each in sample]\n",
    "    question = [each[1] for each in sample]\n",
    "    answer = [each[2] for each in sample]\n",
    "\n",
    "    prob = [normal(i/(len(sample)+1)) for i in range(len(sample)+1)]\n",
    "    s = sum(prob)\n",
    "    prob = [each/s for each in prob]\n",
    "    r = random.random()\n",
    "    for i in range(len(prob)-1, -1, -1):\n",
    "        psum = sum(prob[:i])\n",
    "        if r >= psum:\n",
    "            negative_num = i\n",
    "            break\n",
    "    \n",
    "    sampled = random.sample(range(len(sample)), negative_num)\n",
    "    shuffled = copy.copy(sampled)\n",
    "    question = [question[i] if i not in sampled else question[shuffled[sampled.index(i)]] for i in range(len(question))]\n",
    "    random.shuffle(shuffled)\n",
    "    label = [1 for _ in range(len(sample))]\n",
    "    for i in range(len(sampled)):\n",
    "        if context[sampled[i]] != context[shuffled[i]]:\n",
    "            label[sampled[i]] = 0\n",
    "    \n",
    "    cq = [[101]+c+[102]+q+[102] for c, q in zip(context, question)]\n",
    "    maxlen = max([len(each) for each in cq])\n",
    "    input_ids = torch.zeros((len(sample), maxlen), dtype=torch.int64)\n",
    "    mask = torch.zeros((len(sample), maxlen), dtype=torch.int64)\n",
    "    token_type_ids = torch.zeros((len(sample), maxlen), dtype=torch.int64)\n",
    "    labels = torch.zeros((len(sample)), dtype=torch.int64)\n",
    "    for i in range(len(sample)):\n",
    "        labels[i] = label[i]\n",
    "        for j in range(len(cq[i])):\n",
    "            input_ids[i, j] = cq[i][j]\n",
    "            mask[i, j] = 1\n",
    "            if j < lengths[i]:\n",
    "                token_type_ids[i, j] = 1\n",
    "    return input_ids, mask, token_type_ids, labels\n",
    "# x = [0, 0.1, 0.2, 0.3, 0.4, 0.5, 0.6, 0.7, 0.8, 0.9, 1.]\n",
    "# x[:0]\n",
    "# jf = 0\n",
    "# for i in [0, 0.1, 0.2, 0.3, 0.4, 0.5, 0.6, 0.7, 0.8, 0.9, 1.]:\n",
    "#     print(f'{i}\\t{negative_rate(i)}')\n",
    "#     jf += 0.1*negative_rate(i)\n",
    "# print(jf)\n",
    "# jf, err = integrate.quad(negative_rate, 0, 1)\n",
    "# jf, err = integrate.quad(lambda x:negative_rate(x)/jf, 0, 1)\n",
    "# jf"
   ]
  },
  {
   "cell_type": "code",
   "execution_count": 3,
   "metadata": {},
   "outputs": [
    {
     "name": "stderr",
     "output_type": "stream",
     "text": [
      "Some weights of the model checkpoint at hfl/chinese-pert-base were not used when initializing BertModel: ['cls.seq_relationship.bias', 'cls.predictions.transform.dense.weight', 'cls.predictions.decoder.bias', 'cls.predictions.transform.LayerNorm.bias', 'cls.predictions.transform.dense.bias', 'cls.predictions.bias', 'cls.predictions.decoder.weight', 'cls.seq_relationship.weight', 'cls.predictions.transform.LayerNorm.weight']\n",
      "- This IS expected if you are initializing BertModel from the checkpoint of a model trained on another task or with another architecture (e.g. initializing a BertForSequenceClassification model from a BertForPreTraining model).\n",
      "- This IS NOT expected if you are initializing BertModel from the checkpoint of a model that you expect to be exactly identical (initializing a BertForSequenceClassification model from a BertForSequenceClassification model).\n"
     ]
    }
   ],
   "source": [
    "device = torch.device('cuda:0' if torch.cuda.is_available() else 'cpu')\n",
    "myModel = Model4QA()\n",
    "# myModel = torch.nn.DataParallel(myModel, device_ids=[0])\n",
    "myModel = myModel.to(device)\n",
    "\n",
    "lr_max = 1e-5\n",
    "lr_min = 1e-7\n",
    "\n",
    "def cls_loss(scores, labels):\n",
    "    # total_loss = 0\n",
    "    # for i in range(scores.size(0)):\n",
    "    #     total_loss += torch.nn.CrossEntropyLoss(scores[i], labels[i])\n",
    "    total_loss = torch.nn.CrossEntropyLoss()(scores, labels)\n",
    "    return total_loss"
   ]
  },
  {
   "cell_type": "code",
   "execution_count": 4,
   "metadata": {},
   "outputs": [
    {
     "name": "stdout",
     "output_type": "stream",
     "text": [
      " -- Start training -- \n"
     ]
    },
    {
     "name": "stderr",
     "output_type": "stream",
     "text": [
      "100%|██████████| 6847/6847 [1:06:48<00:00,  1.71it/s]\n"
     ]
    },
    {
     "name": "stdout",
     "output_type": "stream",
     "text": [
      "\n",
      "epoch 0, Loss 0.6503, acc 0.6444\n"
     ]
    },
    {
     "name": "stderr",
     "output_type": "stream",
     "text": [
      "100%|██████████| 6847/6847 [55:43<00:00,  2.05it/s]  \n"
     ]
    },
    {
     "name": "stdout",
     "output_type": "stream",
     "text": [
      "\n",
      "epoch 1, Loss 0.6514, acc 0.6449\n"
     ]
    },
    {
     "name": "stderr",
     "output_type": "stream",
     "text": [
      "100%|██████████| 6847/6847 [51:53<00:00,  2.20it/s]\n"
     ]
    },
    {
     "name": "stdout",
     "output_type": "stream",
     "text": [
      "\n",
      "epoch 2, Loss 0.6482, acc 0.6499\n"
     ]
    },
    {
     "name": "stderr",
     "output_type": "stream",
     "text": [
      "100%|██████████| 6847/6847 [51:54<00:00,  2.20it/s]\n"
     ]
    },
    {
     "name": "stdout",
     "output_type": "stream",
     "text": [
      "\n",
      "epoch 3, Loss 0.6477, acc 0.6504\n"
     ]
    },
    {
     "name": "stderr",
     "output_type": "stream",
     "text": [
      "100%|██████████| 6847/6847 [51:54<00:00,  2.20it/s]\n"
     ]
    },
    {
     "name": "stdout",
     "output_type": "stream",
     "text": [
      "\n",
      "epoch 4, Loss 0.6539, acc 0.6398\n"
     ]
    }
   ],
   "source": [
    "from tqdm import tqdm\n",
    "print(' -- Start training -- ')\n",
    "warmup = 1500\n",
    "optim = torch.optim.Adam(myModel.parameters(), lr=1)\n",
    "scheduler = torch.optim.lr_scheduler.LambdaLR(optim, lambda cur_iter: ((cur_iter/warmup)*(lr_max-lr_min)+lr_min) if cur_iter <= warmup else \\\n",
    "                                (lr_max*((1-lr_min/lr_max)/2+((1-lr_min/lr_max)/2)*math.cos((cur_iter-warmup)/(4500-warmup)*math.pi))))\n",
    "for epoch in range(5):\n",
    "    \n",
    "    dl = DataLoader(ft_dataset, batch_size=8, collate_fn=get_batch, shuffle=True)\n",
    "    loop = tqdm(dl, leave=True)\n",
    "    running_loss = 0.\n",
    "    myModel.train()\n",
    "    acc = 0.\n",
    "    all = 0.\n",
    "    for index, batch in enumerate(loop):\n",
    "        input_ids, mask, token_type_ids, labels= batch\n",
    "        input_ids, mask, token_type_ids, labels = input_ids.to(device), mask.to(device), token_type_ids.to(device), labels.to(device)\n",
    "        optim.zero_grad()\n",
    "        start, end, cls = myModel(input_ids, mask=mask, token_type_ids=token_type_ids)\n",
    "        loss = cls_loss(cls, labels)\n",
    "        loss.backward()\n",
    "        optim.step()\n",
    "        scheduler.step()\n",
    "        running_loss += loss.item()\n",
    "\n",
    "        am = torch.argmax(cls, dim=-1)\n",
    "        for i in range(labels.size(0)):\n",
    "            if am[i] == labels[i]:\n",
    "                acc += 1\n",
    "            all += 1\n",
    "    \n",
    "    torch.save(myModel, f'./saved_model/epoch{epoch}')\n",
    "    print('\\nepoch {}, Loss {:.4f}, acc {:.4f}'.format(\n",
    "        epoch, running_loss / len(dl), acc / all))\n",
    "        \n"
   ]
  },
  {
   "cell_type": "code",
   "execution_count": 5,
   "metadata": {},
   "outputs": [
    {
     "ename": "ValueError",
     "evalue": "Sample larger than population or is negative",
     "output_type": "error",
     "traceback": [
      "\u001b[1;31m---------------------------------------------------------------------------\u001b[0m",
      "\u001b[1;31mValueError\u001b[0m                                Traceback (most recent call last)",
      "\u001b[1;32m~\\AppData\\Local\\Temp\\ipykernel_5736\\4235253740.py\u001b[0m in \u001b[0;36m<module>\u001b[1;34m\u001b[0m\n\u001b[1;32m----> 1\u001b[1;33m \u001b[0mrandom\u001b[0m\u001b[1;33m.\u001b[0m\u001b[0msample\u001b[0m\u001b[1;33m(\u001b[0m\u001b[0mrange\u001b[0m\u001b[1;33m(\u001b[0m\u001b[1;36m2\u001b[0m\u001b[1;33m)\u001b[0m\u001b[1;33m,\u001b[0m \u001b[1;36m5\u001b[0m\u001b[1;33m)\u001b[0m\u001b[1;33m\u001b[0m\u001b[1;33m\u001b[0m\u001b[0m\n\u001b[0m",
      "\u001b[1;32md:\\install\\Anaconda\\envs\\py3713\\lib\\random.py\u001b[0m in \u001b[0;36msample\u001b[1;34m(self, population, k)\u001b[0m\n\u001b[0;32m    319\u001b[0m         \u001b[0mn\u001b[0m \u001b[1;33m=\u001b[0m \u001b[0mlen\u001b[0m\u001b[1;33m(\u001b[0m\u001b[0mpopulation\u001b[0m\u001b[1;33m)\u001b[0m\u001b[1;33m\u001b[0m\u001b[1;33m\u001b[0m\u001b[0m\n\u001b[0;32m    320\u001b[0m         \u001b[1;32mif\u001b[0m \u001b[1;32mnot\u001b[0m \u001b[1;36m0\u001b[0m \u001b[1;33m<=\u001b[0m \u001b[0mk\u001b[0m \u001b[1;33m<=\u001b[0m \u001b[0mn\u001b[0m\u001b[1;33m:\u001b[0m\u001b[1;33m\u001b[0m\u001b[1;33m\u001b[0m\u001b[0m\n\u001b[1;32m--> 321\u001b[1;33m             \u001b[1;32mraise\u001b[0m \u001b[0mValueError\u001b[0m\u001b[1;33m(\u001b[0m\u001b[1;34m\"Sample larger than population or is negative\"\u001b[0m\u001b[1;33m)\u001b[0m\u001b[1;33m\u001b[0m\u001b[1;33m\u001b[0m\u001b[0m\n\u001b[0m\u001b[0;32m    322\u001b[0m         \u001b[0mresult\u001b[0m \u001b[1;33m=\u001b[0m \u001b[1;33m[\u001b[0m\u001b[1;32mNone\u001b[0m\u001b[1;33m]\u001b[0m \u001b[1;33m*\u001b[0m \u001b[0mk\u001b[0m\u001b[1;33m\u001b[0m\u001b[1;33m\u001b[0m\u001b[0m\n\u001b[0;32m    323\u001b[0m         \u001b[0msetsize\u001b[0m \u001b[1;33m=\u001b[0m \u001b[1;36m21\u001b[0m        \u001b[1;31m# size of a small set minus size of an empty list\u001b[0m\u001b[1;33m\u001b[0m\u001b[1;33m\u001b[0m\u001b[0m\n",
      "\u001b[1;31mValueError\u001b[0m: Sample larger than population or is negative"
     ]
    }
   ],
   "source": [
    "random.sample(range(2), 5)"
   ]
  }
 ],
 "metadata": {
  "kernelspec": {
   "display_name": "Python 3",
   "language": "python",
   "name": "python3"
  },
  "language_info": {
   "codemirror_mode": {
    "name": "ipython",
    "version": 3
   },
   "file_extension": ".py",
   "mimetype": "text/x-python",
   "name": "python",
   "nbconvert_exporter": "python",
   "pygments_lexer": "ipython3",
   "version": "3.7.12 | packaged by conda-forge | (default, Oct 26 2021, 06:08:21) \n[GCC 9.4.0]"
  },
  "orig_nbformat": 4,
  "vscode": {
   "interpreter": {
    "hash": "a864910f859e9c0b4cc0b30fd7edb762b8c479b0bcf71b6f1b67476388e6fcd1"
   }
  }
 },
 "nbformat": 4,
 "nbformat_minor": 2
}
